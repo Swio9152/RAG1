{
 "cells": [
  {
   "cell_type": "code",
   "execution_count": null,
   "id": "9c15edb6-08b8-49c6-bbc6-d54bb98ccd09",
   "metadata": {},
   "outputs": [],
   "source": [
    "%%capture\n",
    "!pip install -q accelerate bitsandbytes\n",
    "!pip install langchain==0.2.9\n",
    "!pip install --upgrade langchain\n",
    "!pip install -U langchain-community\n",
    "!pip install typing-inspect==0.8.0 typing_extensions==4.5.0\n",
    "!pip install pydantic -U\n",
    "!pip install pydantic==1.10.11\n",
    "!pip install pypdf\n",
    "!pip install sentence-transformers\n",
    "!pip install chromadb\n",
    "!pip install -U langchain-huggingface\n",
    "!pip install huggingface_hub\n",
    "!pip install accelerate\n",
    "!pip install faiss-cpu\n"
   ]
  },
  {
   "cell_type": "code",
   "execution_count": null,
   "id": "e045b0a9-ae96-464b-9687-c5735fd15231",
   "metadata": {},
   "outputs": [],
   "source": [
    "!pip install -U langchain-community\n",
    "#!pip install -U langchain-community"
   ]
  },
  {
   "cell_type": "code",
   "execution_count": null,
   "id": "6c265628-27b3-420b-978a-94e9d5185c71",
   "metadata": {},
   "outputs": [],
   "source": [
    "from langchain.document_loaders import DirectoryLoader, PyPDFLoader\n",
    "\n",
    "from langchain.text_splitter import CharacterTextSplitter\n",
    "from langchain.embeddings import HuggingFaceEmbeddings\n",
    "from langchain_huggingface import HuggingFaceEndpoint\n",
    "from huggingface_hub import InferenceClient\n",
    "from langchain_core.messages import HumanMessage\n"
   ]
  },
  {
   "cell_type": "code",
   "execution_count": null,
   "id": "2862697e-06b0-43fa-9ceb-a30f1c47dc65",
   "metadata": {},
   "outputs": [],
   "source": [
    "import os\n",
    "from huggingface_hub import HfFolder\n",
    "os.environ[\"HUGGINGFACE_TOKEN\"] = \"Your-HuggingFace-Token\"\n",
    "HfFolder.save_token(os.environ[\"HUGGINGFACE_TOKEN\"])"
   ]
  },
  {
   "cell_type": "code",
   "execution_count": null,
   "id": "4692db8d-68b6-43fe-9fdb-09266a322f8e",
   "metadata": {},
   "outputs": [],
   "source": [
    "import os\n",
    "print(os.getcwd())"
   ]
  },
  {
   "cell_type": "code",
   "execution_count": null,
   "id": "c9441136-681e-4f53-be96-51410d720817",
   "metadata": {},
   "outputs": [],
   "source": [
    "def load_documents():\n",
    "  document_loader = PyPDFLoader(\"/Users/srinandanasarmakesapragada/LangChain/The_last_men_standing.pdf\")\n",
    "  return document_loader.load()"
   ]
  },
  {
   "cell_type": "code",
   "execution_count": null,
   "id": "8d19c904-d1e1-4ed9-9e18-b612d9cea10c",
   "metadata": {},
   "outputs": [],
   "source": [
    "pdf_documents = load_documents()\n",
    "print(pdf_documents[0].page_content)"
   ]
  },
  {
   "cell_type": "code",
   "execution_count": null,
   "id": "3f0f3a97-a875-4c19-9a1e-ec673671eedf",
   "metadata": {},
   "outputs": [],
   "source": [
    "from langchain.text_splitter import RecursiveCharacterTextSplitter\n",
    "\n",
    "text_splitter = RecursiveCharacterTextSplitter(chunk_size=500, chunk_overlap=20)\n",
    "# text_splitter.split_documents(documents)[:5]\n",
    "documents = text_splitter.split_documents(pdf_documents)"
   ]
  },
  {
   "cell_type": "code",
   "execution_count": null,
   "id": "b836c742-c86c-4e49-9794-46f1d67fb8d5",
   "metadata": {},
   "outputs": [],
   "source": [
    "!pip install sentencepiece\n"
   ]
  },
  {
   "cell_type": "code",
   "execution_count": null,
   "id": "2fec9b37-5c58-45e3-a289-7ca15b69ddab",
   "metadata": {},
   "outputs": [],
   "source": [
    "repo_id = \"HuggingFaceH4/zephyr-7b-beta\"\n",
    "model = HuggingFaceEndpoint(repo_id=repo_id, temperature=0.7)"
   ]
  },
  {
   "cell_type": "code",
   "execution_count": null,
   "id": "93c55977-3635-45ac-ab3a-f8451374cb11",
   "metadata": {},
   "outputs": [],
   "source": [
    "model.invoke(\"what is the meaning of life?\")"
   ]
  },
  {
   "cell_type": "code",
   "execution_count": null,
   "id": "7ccd2159-9c69-4785-8290-19edafea1bf6",
   "metadata": {},
   "outputs": [],
   "source": [
    "from langchain.prompts import ChatPromptTemplate\n",
    "\n",
    "template = \"\"\"\n",
    "Answer the question based on the context below. If you can't\n",
    "answer the question, reply \"I don't know\".\n",
    "\n",
    "Context: {context}\n",
    "\n",
    "Question: {question}\n",
    "\"\"\"\n",
    "\n",
    "prompt = ChatPromptTemplate.from_template(template)\n",
    "prompt.format(context=\"Muscle cars are the best\",question=\"what are the best cars?\")"
   ]
  },
  {
   "cell_type": "code",
   "execution_count": null,
   "id": "f963b4b2-2b15-4a2a-97d4-ef046b3ed382",
   "metadata": {},
   "outputs": [],
   "source": [
    "chain = prompt | model\n",
    "chain.invoke({\n",
    "    \"context\": \"Aston Martin Valkyrie is the best-looking car. Its original name is Nebula, and the final codename is AM-RB 001. It is a sports car with a 2-door coupe and a 2-door targa top. Engine specifications: 6.5 L Aston Martin-Cosworth RA naturally-aspirated V12 with a 1,160 hp power output.\",\n",
    "    \"question\": \"What is the best-looking car? What are the engine specifications?\"\n",
    "})"
   ]
  },
  {
   "cell_type": "code",
   "execution_count": null,
   "id": "b53b2684-0b50-4e01-8988-67a7599d5320",
   "metadata": {},
   "outputs": [],
   "source": [
    "embeddings = HuggingFaceEmbeddings(model_name='thenlper/gte-base')"
   ]
  },
  {
   "cell_type": "code",
   "execution_count": null,
   "id": "56ee2732-4fde-4c8d-bcd7-750c721b9ca8",
   "metadata": {},
   "outputs": [],
   "source": [
    "from langchain_pinecone import PineconeVectorStore\n",
    "from pinecone import Pinecone"
   ]
  },
  {
   "cell_type": "code",
   "execution_count": null,
   "id": "fbe18f75-7301-4488-9c45-7fcbd5a887b4",
   "metadata": {},
   "outputs": [],
   "source": [
    "os.environ[\"PINECONE_API_KEY\"] = \"Your-API\"\n",
    "os.environ[\"PINECONE_ENVIRONMENT\"] = \"us-east-1\"\n",
    "\n",
    "pinecone_client = Pinecone(\n",
    "    api_key=os.environ[\"PINECONE_API_KEY\"],\n",
    "    environment=os.environ[\"PINECONE_ENVIRONMENT\"],\n",
    ")"
   ]
  },
  {
   "cell_type": "code",
   "execution_count": null,
   "id": "9d24c2d8-0877-4507-ae03-19fa961b2614",
   "metadata": {},
   "outputs": [],
   "source": [
    "index_name = \"youtube-rag-index\"\n",
    "pinecone = PineconeVectorStore.from_documents(\n",
    "    documents,embeddings, index_name=index_name\n",
    ")"
   ]
  },
  {
   "cell_type": "code",
   "execution_count": null,
   "id": "0a06af46-529f-499d-816a-adec54041791",
   "metadata": {},
   "outputs": [],
   "source": [
    "pinecone.similarity_search(\"Who wrote THE LAST MEN STANDING\")[:3]"
   ]
  },
  {
   "cell_type": "code",
   "execution_count": null,
   "id": "6ef3e048-f5fc-4a10-93ac-4d925d552e34",
   "metadata": {},
   "outputs": [],
   "source": [
    "from langchain_core.runnables import RunnableParallel, RunnablePassthrough"
   ]
  },
  {
   "cell_type": "code",
   "execution_count": null,
   "id": "1d00eb39-7c39-4ea4-9592-f4bea711b5ac",
   "metadata": {},
   "outputs": [],
   "source": [
    "chain = (\n",
    "    {\"context\" : pinecone.as_retriever(), \"question\":RunnablePassthrough()}\n",
    "    |prompt\n",
    "    |model\n",
    ")"
   ]
  },
  {
   "cell_type": "code",
   "execution_count": null,
   "id": "f10ab052-954b-49c8-8257-040916a55706",
   "metadata": {},
   "outputs": [],
   "source": [
    "chain.invoke(\"Who is Akira?\")"
   ]
  },
  {
   "cell_type": "code",
   "execution_count": null,
   "id": "80f67fef-4736-47c7-8cd8-33eb03298b5c",
   "metadata": {},
   "outputs": [],
   "source": []
  }
 ],
 "metadata": {
  "kernelspec": {
   "display_name": "Python 3 (ipykernel)",
   "language": "python",
   "name": "python3"
  },
  "language_info": {
   "codemirror_mode": {
    "name": "ipython",
    "version": 3
   },
   "file_extension": ".py",
   "mimetype": "text/x-python",
   "name": "python",
   "nbconvert_exporter": "python",
   "pygments_lexer": "ipython3",
   "version": "3.11.9"
  }
 },
 "nbformat": 4,
 "nbformat_minor": 5
}
